{
 "cells": [
  {
   "cell_type": "code",
   "execution_count": null,
   "metadata": {},
   "outputs": [],
   "source": [
    "import pandas as pd\n",
    "import numpy as np\n",
    "%pylab inline\n",
    "%matplotlib inline\n",
    "import matplotlib.pyplot as plt\n",
    "from sklearn.ensemble import RandomForestClassifier\n",
    "from sklearn.model_selection import RepeatedKFold\n",
    "from sklearn.preprocessing import StandardScaler"
   ]
  },
  {
   "cell_type": "markdown",
   "metadata": {},
   "source": [
    "# Leitura e Tratamento dos Dados"
   ]
  },
  {
   "cell_type": "code",
   "execution_count": null,
   "metadata": {},
   "outputs": [],
   "source": [
    "train = pd.read_csv('./dataset/train.csv')\n",
    "test = pd.read_csv('./dataset/test.csv')\n",
    "print(f'Train set shape: {train.shape}\\nTest set shape: {test.shape}')"
   ]
  },
  {
   "cell_type": "code",
   "execution_count": null,
   "metadata": {},
   "outputs": [],
   "source": [
    "train.head()"
   ]
  },
  {
   "cell_type": "code",
   "execution_count": null,
   "metadata": {},
   "outputs": [],
   "source": [
    "train['Embarked'].value_counts()"
   ]
  },
  {
   "cell_type": "code",
   "execution_count": null,
   "metadata": {},
   "outputs": [],
   "source": [
    "train['Sex'].value_counts()"
   ]
  },
  {
   "cell_type": "code",
   "execution_count": null,
   "metadata": {},
   "outputs": [],
   "source": [
    "train['Sex_b'] = train['Sex'].map(lambda x: 1 if x == 'female' else 0)\n",
    "test['Sex_b'] = test['Sex'].map(lambda x: 1 if x == 'female' else 0)"
   ]
  },
  {
   "cell_type": "code",
   "execution_count": null,
   "metadata": {
    "scrolled": true
   },
   "outputs": [],
   "source": [
    "train['Sex_b'].value_counts()"
   ]
  },
  {
   "cell_type": "code",
   "execution_count": null,
   "metadata": {},
   "outputs": [],
   "source": [
    "train['Embarked_S'] = (train['Embarked'] == 'S').astype(int)\n",
    "train['Embarked_C'] = (train['Embarked'] == 'C').astype(int)\n",
    "\n",
    "train['Cabin_null'] = train['Cabin'].isnull().astype(int)\n",
    "train['Cabin_C'] = train['Cabin'].fillna('').str.count('C').astype(int)\n",
    "train['Cabin_E'] = train['Cabin'].fillna('').str.count('E').astype(int)\n",
    "train['Cabin_G'] = train['Cabin'].fillna('').str.count('G').astype(int)\n",
    "train['Cabin_D'] = train['Cabin'].fillna('').str.count('D').astype(int)\n",
    "train['Cabin_A'] = train['Cabin'].fillna('').str.count('A').astype(int)\n",
    "train['Cabin_B'] = train['Cabin'].fillna('').str.count('B').astype(int)\n",
    "train['Cabin_F'] = train['Cabin'].fillna('').str.count('F').astype(int)\n",
    "train['Cabin_T'] = train['Cabin'].fillna('').str.count('T').astype(int)\n",
    "\n",
    "train['Name_Miss'] = train['Name'].str.contains('Miss.').astype(int)\n",
    "train['Name_Mrs'] = train['Name'].str.contains('Mrs.').astype(int)\n",
    "train['Name_Master'] = train['Name'].str.contains('Master.').astype(int)\n",
    "train['Name_Col'] = train['Name'].str.contains('Col.').astype(int)\n",
    "train['Name_Major'] = train['Name'].str.contains('Major.').astype(int)\n",
    "train['Name_Mr'] = train['Name'].str.contains('Mr.').astype(int)\n",
    "train['Name_Dr'] = train['Name'].str.contains('Dr.').astype(int)\n",
    "train['Name_Don'] = train['Name'].str.contains('Don.').astype(int)\n",
    "train['Name_Sir'] = train['Name'].str.contains('Sir.').astype(int)\n",
    "\n",
    "train['Ticket_cat'] = train['Ticket'].map(lambda x: list(train['Ticket'].unique()).index(x) if x in list(train['Ticket'].unique()) else 0)\n",
    "train['Ticket_num'] = train['Ticket'].str.split().map(lambda x: x[1] if len(x) > 1 and x[1].isnumeric() else x[0] if x[0].isnumeric() else 0)"
   ]
  },
  {
   "cell_type": "code",
   "execution_count": null,
   "metadata": {},
   "outputs": [],
   "source": [
    "test['Embarked_S'] = (test['Embarked'] == 'S').astype(int)\n",
    "test['Embarked_C'] = (test['Embarked'] == 'C').astype(int)\n",
    "\n",
    "#test['Cabin_null'] = test['Cabin'].map(lambda x: 0 if x is np.nan else len(str(x)))\n",
    "test['Cabin_null'] = test['Cabin'].isnull().astype(int)\n",
    "test['Cabin_C'] = test['Cabin'].fillna('').str.count('C').astype(int)\n",
    "test['Cabin_E'] = test['Cabin'].fillna('').str.count('E').astype(int)\n",
    "test['Cabin_G'] = test['Cabin'].fillna('').str.count('G').astype(int)\n",
    "test['Cabin_D'] = test['Cabin'].fillna('').str.count('D').astype(int)\n",
    "test['Cabin_A'] = test['Cabin'].fillna('').str.count('A').astype(int)\n",
    "test['Cabin_B'] = test['Cabin'].fillna('').str.count('B').astype(int)\n",
    "test['Cabin_F'] = test['Cabin'].fillna('').str.count('F').astype(int)\n",
    "test['Cabin_T'] = test['Cabin'].fillna('').str.count('T').astype(int)\n",
    "\n",
    "test['Name_Miss'] = test['Name'].str.contains('Miss.').astype(int)\n",
    "test['Name_Mrs'] = test['Name'].str.contains('Mrs.').astype(int)\n",
    "test['Name_Master'] = test['Name'].str.contains('Master.').astype(int)\n",
    "test['Name_Col'] = test['Name'].str.contains('Col.').astype(int)\n",
    "test['Name_Major'] = test['Name'].str.contains('Major.').astype(int)\n",
    "test['Name_Mr'] = test['Name'].str.contains('Mr.').astype(int)\n",
    "test['Name_Dr'] = test['Name'].str.contains('Dr.').astype(int)\n",
    "test['Name_Don'] = test['Name'].str.contains('Don.').astype(int)\n",
    "test['Name_Sir'] = test['Name'].str.contains('Sir.').astype(int)\n",
    "\n",
    "test['Ticket_cat'] = test['Ticket'].map(lambda x: list(test['Ticket'].unique()).index(x) if x in list(test['Ticket'].unique()) else 0)\n",
    "test['Ticket_num'] = test['Ticket'].str.split().map(lambda x: x[1] if len(x) > 1 and x[1].isnumeric() else x[0] if x[0].isnumeric() else 0)"
   ]
  },
  {
   "cell_type": "code",
   "execution_count": null,
   "metadata": {},
   "outputs": [],
   "source": [
    "variaveis = ['Sex_b', 'Age', 'Pclass', 'Embarked_S', 'Embarked_C', 'SibSp', 'Parch', 'Fare', 'Cabin_null',\n",
    "             'Cabin_C', 'Cabin_E', 'Cabin_G', 'Cabin_D', 'Cabin_A', 'Cabin_B', 'Cabin_F', 'Cabin_T',\n",
    "             'Name_Miss', 'Name_Mrs', 'Name_Master', 'Name_Col', 'Name_Major', 'Name_Mr', 'Name_Dr', 'Name_Don',\n",
    "             'Name_Sir', 'Ticket_num', 'Ticket_cat']"
   ]
  },
  {
   "cell_type": "code",
   "execution_count": null,
   "metadata": {},
   "outputs": [],
   "source": [
    "X = train[variaveis].fillna(-1)\n",
    "X_test = test[variaveis].fillna(-1)\n",
    "y = train['Survived']"
   ]
  },
  {
   "cell_type": "code",
   "execution_count": null,
   "metadata": {},
   "outputs": [],
   "source": [
    "scaler = StandardScaler()\n",
    "X['Fare'] = scaler.fit_transform(X[['Fare']])\n",
    "X_test['Fare'] = scaler.transform(X_test[['Fare']])"
   ]
  },
  {
   "cell_type": "code",
   "execution_count": null,
   "metadata": {},
   "outputs": [],
   "source": [
    "X.head()"
   ]
  },
  {
   "cell_type": "markdown",
   "metadata": {},
   "source": [
    "# Random Forest"
   ]
  },
  {
   "cell_type": "code",
   "execution_count": null,
   "metadata": {},
   "outputs": [],
   "source": [
    "kf = RepeatedKFold(n_splits=2, n_repeats=10, random_state=42)\n",
    "\n",
    "step_train = []\n",
    "step = []\n",
    "\n",
    "for linhas_train, linhas_cv in kf.split(X):\n",
    "    X_train, X_cv = X.iloc[linhas_train].copy(), X.iloc[linhas_cv].copy()\n",
    "    y_train, y_cv = y.iloc[linhas_train].copy(), y.iloc[linhas_cv].copy()\n",
    "    \n",
    "    model = RandomForestClassifier(n_estimators=200, n_jobs=-1, random_state=42, max_depth=15)\n",
    "    model.fit(X_train, y_train)\n",
    "\n",
    "    yhat_train = model.predict(X_train)\n",
    "    yhat = model.predict(X_cv)\n",
    "\n",
    "    acc_train = np.mean(y_train == yhat_train)\n",
    "    acc = np.mean(y_cv == yhat)\n",
    "    print(f'acc_train: {acc_train}, acc_cv: {acc}\\n')\n",
    "\n",
    "    step_train.append(acc_train)\n",
    "    step.append(acc)"
   ]
  },
  {
   "cell_type": "code",
   "execution_count": null,
   "metadata": {},
   "outputs": [],
   "source": [
    "print(f'Train mean: {np.mean(step_train)}, CV mean: {np.mean(step)}')"
   ]
  },
  {
   "cell_type": "code",
   "execution_count": null,
   "metadata": {},
   "outputs": [],
   "source": [
    "pylab.hist(step)"
   ]
  },
  {
   "cell_type": "code",
   "execution_count": null,
   "metadata": {
    "scrolled": true
   },
   "outputs": [],
   "source": [
    "gender_submission = (X_cv['Sex_b'] == 1).astype(np.int64)\n",
    "np.mean(y_cv == gender_submission)"
   ]
  },
  {
   "cell_type": "markdown",
   "metadata": {},
   "source": [
    "## Análise de Erro"
   ]
  },
  {
   "cell_type": "code",
   "execution_count": null,
   "metadata": {},
   "outputs": [],
   "source": [
    "X_cv_erro = train.iloc[linhas_cv].copy()\n",
    "X_cv_erro['yhat'] = yhat\n",
    "X_cv_erro.head()"
   ]
  },
  {
   "cell_type": "code",
   "execution_count": null,
   "metadata": {},
   "outputs": [],
   "source": [
    "erro = X_cv_erro[X_cv_erro['Survived'] != X_cv_erro['yhat']]\n",
    "erro = erro[['PassengerId', 'Survived', 'yhat', 'Name', 'Sex', 'Sex_b', 'Embarked', 'Age', 'Ticket', 'Cabin', 'Pclass', 'Embarked_S', 'Embarked_C', 'SibSp', 'Parch', 'Fare', 'Cabin_null',\n",
    "             'Name_Miss', 'Name_Mrs', 'Name_Master', 'Name_Col', 'Name_Major', 'Name_Mr', 'Name_Dr', 'Name_Don', 'Name_Sir']]\n",
    "erro.head()"
   ]
  },
  {
   "cell_type": "code",
   "execution_count": null,
   "metadata": {},
   "outputs": [],
   "source": [
    "female = erro[erro['Sex_b'] == 1]\n",
    "male = erro[erro['Sex_b'] == 0]"
   ]
  },
  {
   "cell_type": "code",
   "execution_count": null,
   "metadata": {},
   "outputs": [],
   "source": [
    "female.sort_values('Survived')"
   ]
  },
  {
   "cell_type": "code",
   "execution_count": null,
   "metadata": {},
   "outputs": [],
   "source": [
    "male.sort_values('Survived')"
   ]
  },
  {
   "cell_type": "markdown",
   "metadata": {},
   "source": [
    "## Retreinando o modelo"
   ]
  },
  {
   "cell_type": "code",
   "execution_count": null,
   "metadata": {},
   "outputs": [],
   "source": [
    "model = LogisticRegression(penalty='l2', random_state=42)\n",
    "model.fit(X, y)\n",
    "\n",
    "y_hat = model.predict(X_test)"
   ]
  },
  {
   "cell_type": "markdown",
   "metadata": {},
   "source": [
    "# Criando o Resultado das Previsões para Importar ao Kaggle"
   ]
  },
  {
   "cell_type": "code",
   "execution_count": null,
   "metadata": {},
   "outputs": [],
   "source": [
    "result = pd.Series(y_hat, index=test['PassengerId'], name='Survived')\n",
    "result"
   ]
  },
  {
   "cell_type": "code",
   "execution_count": null,
   "metadata": {},
   "outputs": [],
   "source": [
    "result.to_csv('./yhat/logistic_regression.csv', header=True)"
   ]
  },
  {
   "cell_type": "code",
   "execution_count": null,
   "metadata": {},
   "outputs": [],
   "source": []
  }
 ],
 "metadata": {
  "kernelspec": {
   "display_name": "Python 3 (ipykernel)",
   "language": "python",
   "name": "python3"
  },
  "language_info": {
   "codemirror_mode": {
    "name": "ipython",
    "version": 3
   },
   "file_extension": ".py",
   "mimetype": "text/x-python",
   "name": "python",
   "nbconvert_exporter": "python",
   "pygments_lexer": "ipython3",
   "version": "3.11.9"
  }
 },
 "nbformat": 4,
 "nbformat_minor": 4
}
